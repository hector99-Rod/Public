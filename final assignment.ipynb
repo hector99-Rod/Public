{
 "metadata": {
  "kernelspec": {
   "name": "python3",
   "language": "python",
   "display_name": "Python 3 (ipykernel)"
  },
  "language_info": {
   "codemirror_mode": {
    "name": "python",
    "version": 3
   },
   "file_extension": ".py",
   "mimetype": "text/x-python",
   "name": "python",
   "nbconvert_exporter": "python",
   "pygments_lexer": "ipython3",
   "version": "3.8"
  }
 },
 "nbformat_minor": 4,
 "nbformat": 4,
 "cells": [
  {
   "cell_type": "markdown",
   "source": [
    "<h1><center><font size=\"15\">Final Assignment</font></center></h1>"
   ],
   "metadata": {}
  },
  {
   "cell_type": "markdown",
   "source": [
    "#### Introduction"
   ],
   "metadata": {}
  },
  {
   "cell_type": "markdown",
   "source": [
    "Languages for data science:\n",
    "\n",
    "Python: A high-level programming language used in data science. It has a large collection of libraries for data analytics, visualization, and machine learning.\n",
    "\n",
    "R: A programming language that is specifically designed for statistical computing and graphics.\n",
    "\n",
    "SQL: A language used for managing relational databases. It is for querying data and managing databases.\n",
    "\n",
    "Scala: A programming language that is designed to be scalable and efficient. It has a large collection of libraries for distributed computing and machine learning.\n",
    "\n",
    "MATLAB: A high-level programming language that is widely used in engineering and scientific computing.\n"
   ],
   "metadata": {}
  },
  {
   "cell_type": "markdown",
   "source": [
    "Libraries for data science:\n",
    "\n",
    "NumPy: A library for numerical computing in Python. It provides support for large, multi-dimensional arrays and matrices, along with a large collection of high-level mathematical functions to operate on these arrays.\n",
    "\n",
    "Pandas: A library for data manipulation and analysis. It provides data structures for efficiently storing and manipulating large datasets, as well as tools for reading and writing data between different formats.\n",
    "\n",
    "Matplotlib: A library for creating static, animated, and interactive visualizations in Python. It provides a wide range of plotting tools and customization options.\n",
    "\n",
    "Scikit-learn: A library for machine learning in Python. It provides tools for classification, regression, clustering, and dimensionality reduction, along with tools for model selection and evaluation.\n",
    "\n",
    "TensorFlow: A library for machine learning developed by Google Brain Team. It provides tools for building and training deep neural networks.\n",
    "\n",
    "Keras: A high-level neural networks API written in Python. It is capable of running on top of TensorFlow, CNTK, or Theano.\n",
    "\n",
    "PyTorch: An open-source machine learning library developed by Facebook’s AI Research lab. It provides tools for building and training deep neural networks.\n",
    "\n",
    "Bibliography:\n",
    "https://www.dataquest.io/blog/15-python-libraries-for-data-science/"
   ],
   "metadata": {
    "collapsed": false
   }
  },
  {
   "cell_type": "markdown",
   "source": [
    "| Tool | Description |\n",
    "| --- | --- |\n",
    "| Jupyter Notebook | An open-source web application that allows you to create and share documents that contain live code, equations, visualizations, and narrative text. |\n",
    "| Tableau | A data visualization tool that allows you to create interactive dashboards and reports. |\n",
    "| Apache Spark | An open-source distributed computing system that is used for big data processing. |\n",
    "| Apache Hadoop | An open-source software framework that is used for distributed storage and processing of big data. |\n",
    "| TensorFlow | An open-source software library for machine learning developed by Google Brain Team. |\n",
    "| Keras | A high-level neural networks API written in Python. It is capable of running on top of TensorFlow, CNTK, or Theano. |\n",
    "| PyTorch | An open-source machine learning library developed by Facebook's AI Research lab. It provides tools for building and training deep neural networks. |\n",
    "| Scikit-learn | A library for machine learning in Python. It provides tools for classification, regression, clustering, and dimensionality reduction, along with tools for model selection and evaluation. |\n"
   ],
   "metadata": {
    "collapsed": false
   }
  },
  {
   "cell_type": "markdown",
   "source": [
    "# Introduction to arithmetic expressions\n",
    "# Variables:\n",
    "a = 5\n",
    "b = 3\n",
    "\n",
    "# Addition\n",
    "c = a + b\n",
    "the comand to print: \n",
    "print(\"The sum of\", a, \"and\", b, \"is\", c)\n",
    "\n",
    "# Subtraction\n",
    "c = a - b\n",
    "the comand to print: \n",
    "print(\"The difference between\", a, \"and\", b, \"is\", c)"
   ],
   "metadata": {
    "collapsed": false
   }
  },
  {
   "cell_type": "code",
   "execution_count": null,
   "outputs": [],
   "source": [
    "# Introduction to arithmetic expressions\n",
    "# Variables:\n",
    "a = 5\n",
    "b = 3\n",
    "# Multiplication\n",
    "c = a * b\n",
    "print(\"The product of\", a, \"and\", b, \"is\", c)\n",
    "\n",
    "# Division\n",
    "c = a / b\n",
    "print(\"The quotient of\", a, \"and\", b, \"is\", c)\n",
    "\n",
    "# Modulus (remainder)\n",
    "c = a % b\n",
    "print(\"The remainder when\", a, \"is divided by\", b, \"is\", c)"
   ],
   "metadata": {
    "collapsed": false
   }
  },
  {
   "cell_type": "code",
   "execution_count": 6,
   "outputs": [
    {
     "name": "stdout",
     "output_type": "stream",
     "text": [
      "1  minutes,  1  hours\n"
     ]
    }
   ],
   "source": [
    "#minutes to hours\n",
    "minutes = int(input(\"give the minutes: \"))\n",
    "m = minutes % 60\n",
    "hours = minutes // 60\n",
    "print(m,\" minutes, \",hours, \" hours\")\n"
   ],
   "metadata": {
    "collapsed": false,
    "ExecuteTime": {
     "end_time": "2023-09-02T00:55:25.452213600Z",
     "start_time": "2023-09-02T00:55:23.916180700Z"
    }
   }
  },
  {
   "cell_type": "markdown",
   "source": [
    "Hey! After seeing the world of math, stadistics and programation behind data science I realized that is not only the theory that works, in practice you can gain information from data that can help drive business decisions and improve organizational performance, and, developing skills in data analysis, machine learning, and statistical modeling that are in high demand across a wide range of industries."
   ],
   "metadata": {
    "collapsed": false
   }
  },
  {
   "cell_type": "markdown",
   "source": [
    "Name: Hector Rodrigo Guzman"
   ],
   "metadata": {
    "collapsed": false
   }
  }
 ]
}
